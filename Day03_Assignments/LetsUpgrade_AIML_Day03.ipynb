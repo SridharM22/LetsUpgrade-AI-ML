{
 "cells": [
  {
   "cell_type": "code",
   "execution_count": 7,
   "metadata": {},
   "outputs": [
    {
     "name": "stdout",
     "output_type": "stream",
     "text": [
      "subtraction of two complex numbers = (3+7j)\n"
     ]
    }
   ],
   "source": [
    "\n",
    "a=(5+5j)\n",
    "b=(2-2j)\n",
    "print(\"subtraction of two complex numbers =\",(a-b))"
   ]
  },
  {
   "cell_type": "code",
   "execution_count": 11,
   "metadata": {},
   "outputs": [
    {
     "name": "stdout",
     "output_type": "stream",
     "text": [
      "the fourth root of a is= 2.8284271247461903\n"
     ]
    }
   ],
   "source": [
    "a=64\n",
    "print(\"the fourth root of a is=\",a**0.25)"
   ]
  },
  {
   "cell_type": "code",
   "execution_count": 12,
   "metadata": {},
   "outputs": [
    {
     "name": "stdout",
     "output_type": "stream",
     "text": [
      "The swapped number a is 6\n",
      "The swapped number b is 5\n"
     ]
    }
   ],
   "source": [
    "a=5\n",
    "b=6\n",
    "c=a\n",
    "a=b\n",
    "b=c\n",
    "\n",
    "print(\"The swapped number a is\",a)\n",
    "print(\"The swapped number b is\",b)"
   ]
  },
  {
   "cell_type": "code",
   "execution_count": 13,
   "metadata": {},
   "outputs": [
    {
     "name": "stdout",
     "output_type": "stream",
     "text": [
      "The swapped number a is 6\n",
      "The swapped number b is 5\n"
     ]
    }
   ],
   "source": [
    "a=5\n",
    "b=6\n",
    "a=a+b\n",
    "b=a-b\n",
    "a=a-b\n",
    "\n",
    "print(\"The swapped number a is\",a)\n",
    "print(\"The swapped number b is\",b)"
   ]
  },
  {
   "cell_type": "code",
   "execution_count": 29,
   "metadata": {},
   "outputs": [
    {
     "name": "stdout",
     "output_type": "stream",
     "text": [
      "<class 'int'>\n",
      "<class 'float'>\n",
      "<class 'str'>\n",
      "<class 'bool'>\n",
      "<class 'list'>\n",
      "<class 'set'>\n",
      "<class 'tuple'>\n",
      "<class 'dict'>\n"
     ]
    }
   ],
   "source": [
    "a=5\n",
    "print(type(a))\n",
    "b=45.555\n",
    "print(type(b))\n",
    "c=\"Hello\"\n",
    "print(type(c))\n",
    "d=True\n",
    "print(type(d))\n",
    "e=[1,2,4,5,6]\n",
    "print(type(e))\n",
    "f={1,2,4,5,6}\n",
    "print(type(f))\n",
    "g=(1,2,4,5,6)\n",
    "print(type(g))\n",
    "h={1: 'apple', 2: 'ball'}\n",
    "print(type(h))"
   ]
  },
  {
   "cell_type": "markdown",
   "metadata": {},
   "source": [
    "# Steps To Save In Github\n",
    "Launch the GitHub\n",
    "Create an Account \n",
    "open a repositry\n",
    "upload the necessary files\n"
   ]
  },
  {
   "cell_type": "code",
   "execution_count": null,
   "metadata": {},
   "outputs": [],
   "source": []
  }
 ],
 "metadata": {
  "kernelspec": {
   "display_name": "Python 3",
   "language": "python",
   "name": "python3"
  },
  "language_info": {
   "codemirror_mode": {
    "name": "ipython",
    "version": 3
   },
   "file_extension": ".py",
   "mimetype": "text/x-python",
   "name": "python",
   "nbconvert_exporter": "python",
   "pygments_lexer": "ipython3",
   "version": "3.7.4"
  }
 },
 "nbformat": 4,
 "nbformat_minor": 2
}
