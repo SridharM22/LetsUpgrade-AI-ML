{
 "cells": [
  {
   "cell_type": "code",
   "execution_count": 3,
   "metadata": {},
   "outputs": [
    {
     "name": "stdout",
     "output_type": "stream",
     "text": [
      " 3   5   7   11   13   17   19   23   29   31   37   41   43   47   53   59   61   67   71   73   79   83   89   97  "
     ]
    }
   ],
   "source": [
    "\n",
    "for Number in range (1, 101):\n",
    "    count = 0\n",
    "    j=0\n",
    "    for i in range(2, (Number//2 + 1)):\n",
    "        if(Number % i == 0):\n",
    "            count = count + 1\n",
    "            j=j+1\n",
    "            break\n",
    "            \n",
    "    if(j==20):\n",
    "        break\n",
    "\n",
    "    if (count == 0 and Number != 1 and Number !=2):\n",
    "        print(\" %d\" %Number, end = '  ')"
   ]
  },
  {
   "cell_type": "code",
   "execution_count": 34,
   "metadata": {},
   "outputs": [
    {
     "name": "stdout",
     "output_type": "stream",
     "text": [
      "The Capitalized version= Helloworld\n",
      "The uppercase version= HELLOWORLD\n",
      "The Lowercase Version= helloworld\n",
      "The Swapcase version= HELLOwORLD\n",
      "the Alphafunction= True\n",
      "the Alnumfunction= True\n",
      "the digit= False\n",
      "the digit= False\n",
      "The Lower= False\n",
      "The space= False\n",
      "The fill= 00helloWorld\n",
      "The title= Helloworld\n",
      "The space= False\n",
      "The replace= helloWorld\n"
     ]
    }
   ],
   "source": [
    "str=\"helloWorld\"\n",
    "print(\"The Capitalized version=\",str.capitalize())\n",
    "print(\"The uppercase version=\",str.upper())\n",
    "print(\"The Lowercase Version=\",str.lower())\n",
    "print(\"The Swapcase version=\",str.swapcase())\n",
    "print(\"the Alphafunction=\",str.isalpha())\n",
    "print(\"the Alnumfunction=\",str.isalnum())\n",
    "print(\"the digit=\",str.isdigit())\n",
    "print(\"the digit=\",str.isdigit())\n",
    "print(\"The Lower=\",str.islower())\n",
    "print(\"The space=\",str.isspace())\n",
    "print(\"The fill=\",str.zfill(12))\n",
    "print(\"The title=\",str.title())\n",
    "print(\"The space=\",str.isspace())\n",
    "print(\"The replace=\",str.replace(\"world\",\"python\"))"
   ]
  },
  {
   "cell_type": "code",
   "execution_count": 39,
   "metadata": {},
   "outputs": [
    {
     "name": "stdout",
     "output_type": "stream",
     "text": [
      "palindrome\n"
     ]
    }
   ],
   "source": [
    "\"\"\"Palindrome\"\"\"\n",
    "s=\"malayalam\"\n",
    "if(s==s[::-1]):\n",
    "    print(\"palindrome\")\n",
    "else:\n",
    "    print(\"no\")"
   ]
  },
  {
   "cell_type": "code",
   "execution_count": 44,
   "metadata": {},
   "outputs": [
    {
     "name": "stdout",
     "output_type": "stream",
     "text": [
      "Anagram\n"
     ]
    }
   ],
   "source": [
    "\"\"\"Anagram\"\"\"\n",
    "s1=\"mary\"\n",
    "s2=\"army\"\n",
    "if(sorted(s1)==sorted(s2)):\n",
    "    print(\"Anagram\")\n",
    "else:\n",
    "    print(\"No Anagram\")\n"
   ]
  },
  {
   "cell_type": "code",
   "execution_count": 8,
   "metadata": {},
   "outputs": [],
   "source": [
    "def lowercause(s):\n",
    "    a=s.replace(\" \",\"\")\n",
    "    a=a.replace(\".\",\"\")\n",
    "    a=a.replace(\"@\",\"\")\n",
    "    a=a.replace(\"-\",\"\")\n",
    "    return(a.lower())"
   ]
  },
  {
   "cell_type": "code",
   "execution_count": 9,
   "metadata": {},
   "outputs": [
    {
     "data": {
      "text/plain": [
       "'drdarshaningleaimltrainer'"
      ]
     },
     "execution_count": 9,
     "metadata": {},
     "output_type": "execute_result"
    }
   ],
   "source": [
    "lowercause(\"Dr. Darshan Ingle@AI-ML Trainer\")"
   ]
  },
  {
   "cell_type": "code",
   "execution_count": null,
   "metadata": {},
   "outputs": [],
   "source": []
  },
  {
   "cell_type": "code",
   "execution_count": null,
   "metadata": {},
   "outputs": [],
   "source": []
  }
 ],
 "metadata": {
  "kernelspec": {
   "display_name": "Python 3",
   "language": "python",
   "name": "python3"
  },
  "language_info": {
   "codemirror_mode": {
    "name": "ipython",
    "version": 3
   },
   "file_extension": ".py",
   "mimetype": "text/x-python",
   "name": "python",
   "nbconvert_exporter": "python",
   "pygments_lexer": "ipython3",
   "version": "3.7.4"
  }
 },
 "nbformat": 4,
 "nbformat_minor": 2
}
