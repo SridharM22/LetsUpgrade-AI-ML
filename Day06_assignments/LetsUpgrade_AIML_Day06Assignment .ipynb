{
 "cells": [
  {
   "cell_type": "code",
   "execution_count": 1,
   "metadata": {},
   "outputs": [
    {
     "name": "stdout",
     "output_type": "stream",
     "text": [
      "Enter ur EmailID\n",
      "Nonesridhar@google.com\n",
      "The company you are working in :google\n"
     ]
    }
   ],
   "source": [
    "string_input=(input(print(\"Enter ur EmailID\")))\n",
    "list_1=string_input.split(\"@\")\n",
    "list_2=list_1[1].split(\".\")\n",
    "print(\"The company you are working in :\"+list_2[0])"
   ]
  },
  {
   "cell_type": "code",
   "execution_count": 26,
   "metadata": {},
   "outputs": [
    {
     "name": "stdout",
     "output_type": "stream",
     "text": [
      "['bag', 'hello', 'without', 'world']\n",
      "bag,hello,without,world,"
     ]
    }
   ],
   "source": [
    "stra=\"without,hello,bag,world\"\n",
    "list_1=stra.split(\",\")\n",
    "list_1.sort()\n",
    "print(list_1)\n",
    "for a in range(len(list_1)): \n",
    "    print(list_1[a], end=\",\")"
   ]
  },
  {
   "cell_type": "code",
   "execution_count": 27,
   "metadata": {},
   "outputs": [
    {
     "name": "stdout",
     "output_type": "stream",
     "text": [
      "True\n",
      "{'banana', 'cherry', 'orange', 'apple'}\n",
      "{'banana', 'orange', 'grapes', 'mango', 'apple', 'cherry'}\n",
      "{'orange', 'grapes', 'mango', 'apple', 'cherry'}\n",
      "orange\n",
      "{'grapes', 'mango', 'apple', 'cherry'}\n"
     ]
    }
   ],
   "source": [
    "thisset = {\"apple\", \"banana\", \"cherry\"}\n",
    "print(\"banana\" in thisset)\n",
    "thisset.add(\"orange\")\n",
    "print(thisset)\n",
    "thisset.update([\"orange\", \"mango\", \"grapes\"])\n",
    "print(thisset)\n",
    "thisset.remove(\"banana\")\n",
    "print(thisset)\n",
    "x = thisset.pop()\n",
    "print(x)\n",
    "print(thisset)\n"
   ]
  },
  {
   "cell_type": "code",
   "execution_count": 28,
   "metadata": {},
   "outputs": [
    {
     "name": "stdout",
     "output_type": "stream",
     "text": [
      "5.0\n"
     ]
    }
   ],
   "source": [
    "a=[1,2,3,4,6]\n",
    "n=len(a)\n",
    "sumb=(n+1)*(n+2)/2\n",
    "sum_of_a=sum(a)\n",
    "print(sumb-sum_of_a)"
   ]
  },
  {
   "cell_type": "code",
   "execution_count": 32,
   "metadata": {},
   "outputs": [
    {
     "name": "stdout",
     "output_type": "stream",
     "text": [
      "[12, 24, 35, 88, 120, 155]\n"
     ]
    }
   ],
   "source": [
    "a=[12, 24, 35, 24, 88, 120, 155, 88, 120, 155]\n",
    "n=len(a)\n",
    "a=list(dict.fromkeys(a))\n",
    "print(a)"
   ]
  },
  {
   "cell_type": "code",
   "execution_count": null,
   "metadata": {},
   "outputs": [],
   "source": []
  }
 ],
 "metadata": {
  "kernelspec": {
   "display_name": "Python 3",
   "language": "python",
   "name": "python3"
  },
  "language_info": {
   "codemirror_mode": {
    "name": "ipython",
    "version": 3
   },
   "file_extension": ".py",
   "mimetype": "text/x-python",
   "name": "python",
   "nbconvert_exporter": "python",
   "pygments_lexer": "ipython3",
   "version": "3.7.4"
  }
 },
 "nbformat": 4,
 "nbformat_minor": 2
}
