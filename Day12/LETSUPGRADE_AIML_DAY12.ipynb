{
 "cells": [
  {
   "cell_type": "code",
   "execution_count": 14,
   "metadata": {},
   "outputs": [],
   "source": [
    "import pandas as pd\n",
    "dg=pd.read_csv('C:\\Machine Learning\\Assignments\\general_data.csv')\n",
    "dg[\"Attrition\"].replace(to_replace=(\"No\",\"Yes\"),value=(0,1),inplace=True)\n",
    "dg[\"Gender\"].replace(to_replace=(\"Male\",\"Female\"),value=(0,1),inplace=True)\n",
    "dg\n",
    "df_y = dg[dg['Attrition']==1]\n",
    "df_n = dg[dg['Attrition']==0]"
   ]
  },
  {
   "cell_type": "code",
   "execution_count": 18,
   "metadata": {},
   "outputs": [
    {
     "data": {
      "text/plain": [
       "Age                         0\n",
       "Attrition                   0\n",
       "BusinessTravel              0\n",
       "Department                  0\n",
       "DistanceFromHome            0\n",
       "Education                   0\n",
       "EducationField              0\n",
       "EmployeeCount               0\n",
       "EmployeeID                  0\n",
       "Gender                      0\n",
       "JobLevel                    0\n",
       "JobRole                     0\n",
       "MaritalStatus               0\n",
       "MonthlyIncome               0\n",
       "NumCompaniesWorked         19\n",
       "Over18                      0\n",
       "PercentSalaryHike           0\n",
       "StandardHours               0\n",
       "StockOptionLevel            0\n",
       "TotalWorkingYears           9\n",
       "TrainingTimesLastYear       0\n",
       "YearsAtCompany              0\n",
       "YearsSinceLastPromotion     0\n",
       "YearsWithCurrManager        0\n",
       "dtype: int64"
      ]
     },
     "execution_count": 18,
     "metadata": {},
     "output_type": "execute_result"
    }
   ],
   "source": [
    "dg.isnull().sum() #check for null values"
   ]
  },
  {
   "cell_type": "code",
   "execution_count": 24,
   "metadata": {},
   "outputs": [
    {
     "data": {
      "text/plain": [
       "Age                        0\n",
       "Attrition                  0\n",
       "BusinessTravel             0\n",
       "Department                 0\n",
       "DistanceFromHome           0\n",
       "Education                  0\n",
       "EducationField             0\n",
       "EmployeeCount              0\n",
       "EmployeeID                 0\n",
       "Gender                     0\n",
       "JobLevel                   0\n",
       "JobRole                    0\n",
       "MaritalStatus              0\n",
       "MonthlyIncome              0\n",
       "NumCompaniesWorked         0\n",
       "Over18                     0\n",
       "PercentSalaryHike          0\n",
       "StandardHours              0\n",
       "StockOptionLevel           0\n",
       "TotalWorkingYears          0\n",
       "TrainingTimesLastYear      0\n",
       "YearsAtCompany             0\n",
       "YearsSinceLastPromotion    0\n",
       "YearsWithCurrManager       0\n",
       "dtype: int64"
      ]
     },
     "execution_count": 24,
     "metadata": {},
     "output_type": "execute_result"
    }
   ],
   "source": [
    "dg.mean() #check mean to fill null values\n",
    "# filling up null values with their mean\n",
    "dg['NumCompaniesWorked'] = dg['NumCompaniesWorked'].fillna(2.69) \n",
    "dg['TotalWorkingYears'] = dg['TotalWorkingYears'].fillna(11.28)\n",
    "# checking if it is filled\n",
    "dg.isnull().sum()"
   ]
  },
  {
   "cell_type": "markdown",
   "metadata": {},
   "source": [
    "# Mann Whitney Test\n"
   ]
  },
  {
   "cell_type": "code",
   "execution_count": 8,
   "metadata": {},
   "outputs": [],
   "source": [
    "# making a dataframe of continuous columns\n",
    "cols_cont = dg[['Age', 'DistanceFromHome', 'MonthlyIncome',\n",
    "       'NumCompaniesWorked', 'PercentSalaryHike', 'TotalWorkingYears', 'TrainingTimesLastYear',\n",
    "       'YearsAtCompany', 'YearsSinceLastPromotion', 'YearsWithCurrManager']]"
   ]
  },
  {
   "cell_type": "code",
   "execution_count": 9,
   "metadata": {},
   "outputs": [],
   "source": [
    "from scipy.stats import mannwhitneyu"
   ]
  },
  {
   "cell_type": "code",
   "execution_count": 21,
   "metadata": {},
   "outputs": [],
   "source": [
    "# making function to run mannwhitney test for a column against attrition\n",
    "def mwtest(column):\n",
    "    \n",
    "    stats, p = mannwhitneyu(df_y[column], df_n[column])\n",
    "    print(f\"\\tp value is {round(p, 3)}\\n\")\n",
    "    \n",
    "# making a function to print all continuous columns vs attrition along with hypothesis and decision \n",
    "def mwtest_all(colname):\n",
    "    print(f\"{colname} vs Attrition: \\n\")\n",
    "    print(f\"\\tH0: There are no significant differences in the {colname} between attrition (Y) and attirition (N)\")\n",
    "    print(f\"\\tH1: There are significant differences in the {colname} between attrition (Y) and attirition (N)\")\n",
    "    print(\"\\n\")\n",
    "    print(\"\\tPerforming MannWhitneyU Test:\")\n",
    "    stats, p = mannwhitneyu(dg[colname], dg[colname])\n",
    "    print(f\"\\tObtained p value is {round(p, 3)}\\n\")\n",
    "    if p < 0.05:\n",
    "        print(f\"\\tAs the P value of {round(p, 3)} is < 0.05, the H0 is rejected and H1 is accepted.\")\n",
    "        print(f\"\\tTherefore, there are significant differences in the {colname} between attrition (Y) and attirition (N)\")\n",
    "    else:\n",
    "        print(f\"\\tAs the P value of {round(p, 3)} is > 0.05, the H0 is accepted and H1 is rejected.\")\n",
    "        print(f\"\\tTherefore, there are no significant differences in the {colname} between attrition (Y) and attirition (N)\")\n",
    "    print(\"\\n ----------- \\n\")"
   ]
  },
  {
   "cell_type": "code",
   "execution_count": 16,
   "metadata": {},
   "outputs": [
    {
     "name": "stdout",
     "output_type": "stream",
     "text": [
      "Age vs Attrition: \n",
      "\n",
      "\tH0: There are no significant differences in the Age between attrition (Y) and attirition (N)\n",
      "\tH1: There are significant differences in the Age between attrition (Y) and attirition (N)\n",
      "\n",
      "\n",
      "\tPerforming MannWhitneyU Test:\n",
      "\tObtained p value is 0.5\n",
      "\n",
      "\tAs the P value of 0.5 is > 0.05, the H0 is accepted and H1 is rejected.\n",
      "\tTherefore, there are no significant differences in the Age between attrition (Y) and attirition (N)\n",
      "\n",
      " ----------- \n",
      "\n",
      "DistanceFromHome vs Attrition: \n",
      "\n",
      "\tH0: There are no significant differences in the DistanceFromHome between attrition (Y) and attirition (N)\n",
      "\tH1: There are significant differences in the DistanceFromHome between attrition (Y) and attirition (N)\n",
      "\n",
      "\n",
      "\tPerforming MannWhitneyU Test:\n",
      "\tObtained p value is 0.5\n",
      "\n",
      "\tAs the P value of 0.5 is > 0.05, the H0 is accepted and H1 is rejected.\n",
      "\tTherefore, there are no significant differences in the DistanceFromHome between attrition (Y) and attirition (N)\n",
      "\n",
      " ----------- \n",
      "\n",
      "MonthlyIncome vs Attrition: \n",
      "\n",
      "\tH0: There are no significant differences in the MonthlyIncome between attrition (Y) and attirition (N)\n",
      "\tH1: There are significant differences in the MonthlyIncome between attrition (Y) and attirition (N)\n",
      "\n",
      "\n",
      "\tPerforming MannWhitneyU Test:\n",
      "\tObtained p value is 0.5\n",
      "\n",
      "\tAs the P value of 0.5 is > 0.05, the H0 is accepted and H1 is rejected.\n",
      "\tTherefore, there are no significant differences in the MonthlyIncome between attrition (Y) and attirition (N)\n",
      "\n",
      " ----------- \n",
      "\n",
      "NumCompaniesWorked vs Attrition: \n",
      "\n",
      "\tH0: There are no significant differences in the NumCompaniesWorked between attrition (Y) and attirition (N)\n",
      "\tH1: There are significant differences in the NumCompaniesWorked between attrition (Y) and attirition (N)\n",
      "\n",
      "\n",
      "\tPerforming MannWhitneyU Test:\n",
      "\tObtained p value is 0.5\n",
      "\n",
      "\tAs the P value of 0.5 is > 0.05, the H0 is accepted and H1 is rejected.\n",
      "\tTherefore, there are no significant differences in the NumCompaniesWorked between attrition (Y) and attirition (N)\n",
      "\n",
      " ----------- \n",
      "\n",
      "PercentSalaryHike vs Attrition: \n",
      "\n",
      "\tH0: There are no significant differences in the PercentSalaryHike between attrition (Y) and attirition (N)\n",
      "\tH1: There are significant differences in the PercentSalaryHike between attrition (Y) and attirition (N)\n",
      "\n",
      "\n",
      "\tPerforming MannWhitneyU Test:\n",
      "\tObtained p value is 0.5\n",
      "\n",
      "\tAs the P value of 0.5 is > 0.05, the H0 is accepted and H1 is rejected.\n",
      "\tTherefore, there are no significant differences in the PercentSalaryHike between attrition (Y) and attirition (N)\n",
      "\n",
      " ----------- \n",
      "\n",
      "TotalWorkingYears vs Attrition: \n",
      "\n",
      "\tH0: There are no significant differences in the TotalWorkingYears between attrition (Y) and attirition (N)\n",
      "\tH1: There are significant differences in the TotalWorkingYears between attrition (Y) and attirition (N)\n",
      "\n",
      "\n",
      "\tPerforming MannWhitneyU Test:\n",
      "\tObtained p value is 0.5\n",
      "\n",
      "\tAs the P value of 0.5 is > 0.05, the H0 is accepted and H1 is rejected.\n",
      "\tTherefore, there are no significant differences in the TotalWorkingYears between attrition (Y) and attirition (N)\n",
      "\n",
      " ----------- \n",
      "\n",
      "TrainingTimesLastYear vs Attrition: \n",
      "\n",
      "\tH0: There are no significant differences in the TrainingTimesLastYear between attrition (Y) and attirition (N)\n",
      "\tH1: There are significant differences in the TrainingTimesLastYear between attrition (Y) and attirition (N)\n",
      "\n",
      "\n",
      "\tPerforming MannWhitneyU Test:\n",
      "\tObtained p value is 0.5\n",
      "\n",
      "\tAs the P value of 0.5 is > 0.05, the H0 is accepted and H1 is rejected.\n",
      "\tTherefore, there are no significant differences in the TrainingTimesLastYear between attrition (Y) and attirition (N)\n",
      "\n",
      " ----------- \n",
      "\n",
      "YearsAtCompany vs Attrition: \n",
      "\n",
      "\tH0: There are no significant differences in the YearsAtCompany between attrition (Y) and attirition (N)\n",
      "\tH1: There are significant differences in the YearsAtCompany between attrition (Y) and attirition (N)\n",
      "\n",
      "\n",
      "\tPerforming MannWhitneyU Test:\n",
      "\tObtained p value is 0.5\n",
      "\n",
      "\tAs the P value of 0.5 is > 0.05, the H0 is accepted and H1 is rejected.\n",
      "\tTherefore, there are no significant differences in the YearsAtCompany between attrition (Y) and attirition (N)\n",
      "\n",
      " ----------- \n",
      "\n",
      "YearsSinceLastPromotion vs Attrition: \n",
      "\n",
      "\tH0: There are no significant differences in the YearsSinceLastPromotion between attrition (Y) and attirition (N)\n",
      "\tH1: There are significant differences in the YearsSinceLastPromotion between attrition (Y) and attirition (N)\n",
      "\n",
      "\n",
      "\tPerforming MannWhitneyU Test:\n",
      "\tObtained p value is 0.5\n",
      "\n",
      "\tAs the P value of 0.5 is > 0.05, the H0 is accepted and H1 is rejected.\n",
      "\tTherefore, there are no significant differences in the YearsSinceLastPromotion between attrition (Y) and attirition (N)\n",
      "\n",
      " ----------- \n",
      "\n",
      "YearsWithCurrManager vs Attrition: \n",
      "\n",
      "\tH0: There are no significant differences in the YearsWithCurrManager between attrition (Y) and attirition (N)\n",
      "\tH1: There are significant differences in the YearsWithCurrManager between attrition (Y) and attirition (N)\n",
      "\n",
      "\n",
      "\tPerforming MannWhitneyU Test:\n",
      "\tObtained p value is 0.5\n",
      "\n",
      "\tAs the P value of 0.5 is > 0.05, the H0 is accepted and H1 is rejected.\n",
      "\tTherefore, there are no significant differences in the YearsWithCurrManager between attrition (Y) and attirition (N)\n",
      "\n",
      " ----------- \n",
      "\n"
     ]
    }
   ],
   "source": [
    "# running the test\n",
    "cols = list(cols_cont.columns)\n",
    "for col in cols:\n",
    "    mwtest_all(col)"
   ]
  },
  {
   "cell_type": "code",
   "execution_count": 22,
   "metadata": {},
   "outputs": [],
   "source": [
    "from scipy.stats import ttest_ind\n",
    "# making a function to perform separate t test and print hypothesis statements and decision\n",
    "def separate_t(colname):\n",
    "    print(f\"{colname} vs Attrition: \\n\")\n",
    "    print(f\"\\tH0: There are no significant differences in the {colname} between attrition (Y) and attirition (N)\")\n",
    "    print(f\"\\tH1: There are significant differences in the {colname} between attrition (Y) and attirition (N)\")\n",
    "    print(\"\\n\")\n",
    "    print(\"\\tPerforming MannWhitneyU Test:\")\n",
    "    stats, p = ttest_ind(df_y[colname], df_n[colname])\n",
    "    print(f\"\\tObtained p value is {round(p, 3)}\\n\")\n",
    "    if p < 0.05:\n",
    "        print(f\"\\tAs the P value of {round(p, 3)} is < 0.05, the H0 is rejected and H1 is accepted.\")\n",
    "        print(f\"\\tTherefore, there are significant differences in the {colname} between attrition (Y) and attirition (N)\")\n",
    "    else:\n",
    "        print(f\"\\tAs the P value of {round(p, 3)} is > 0.05, the H0 is accepted and H1 is rejected.\")\n",
    "        print(f\"\\tTherefore, there no are significant differences in the {colname} between attrition (Y) and attirition (N)\")\n",
    "    print(\"\\n ----------- \\n\")"
   ]
  },
  {
   "cell_type": "code",
   "execution_count": 23,
   "metadata": {},
   "outputs": [
    {
     "name": "stdout",
     "output_type": "stream",
     "text": [
      "Age vs Attrition: \n",
      "\n",
      "\tH0: There are no significant differences in the Age between attrition (Y) and attirition (N)\n",
      "\tH1: There are significant differences in the Age between attrition (Y) and attirition (N)\n",
      "\n",
      "\n",
      "\tPerforming MannWhitneyU Test:\n",
      "\tObtained p value is 0.0\n",
      "\n",
      "\tAs the P value of 0.0 is < 0.05, the H0 is rejected and H1 is accepted.\n",
      "\tTherefore, there are significant differences in the Age between attrition (Y) and attirition (N)\n",
      "\n",
      " ----------- \n",
      "\n"
     ]
    }
   ],
   "source": [
    "separate_t('Age')"
   ]
  },
  {
   "cell_type": "markdown",
   "metadata": {},
   "source": [
    "# Chisquare Test"
   ]
  },
  {
   "cell_type": "code",
   "execution_count": 25,
   "metadata": {},
   "outputs": [],
   "source": [
    "from scipy.stats import chi2_contingency"
   ]
  },
  {
   "cell_type": "code",
   "execution_count": 29,
   "metadata": {},
   "outputs": [],
   "source": [
    "# making a function to run ChiSquare Test and print out the hypothesis and result\n",
    "def chitest(column):\n",
    "    print(f\"ChiSquare Test to check for dependency between Attrition and {column}-\\n\\n\")\n",
    "    print(f\"H0: There is no dependency between Attrition and {column}\")\n",
    "    print(f\"H1: There is dependency between Attrition and {column}\")\n",
    "    \n",
    "    chitable = pd.crosstab(dg['Attrition'], dg[column])\n",
    "    print(\"\\nChitbale:\\n\\n\",chitable)\n",
    "    stats, p, dof, expected = chi2_contingency(chitable)\n",
    "    print(f\"\\nObtained p value is {round(p, 3)}\")\n",
    "    \n",
    "    if p > 0.05:\n",
    "        print(f\"\\nSince here p value {round(p,3)} is > 0.05 we accept the null hypothesis\")\n",
    "        print(f\"Therefore, there is no dependency between Attrition and {column}\")\n",
    "    else:\n",
    "        print(f\"\\nSince here p value {round(p,3)} is < 0.05 we reject the null hypothesis\")\n",
    "        print(f\"Therefore, there is dependency between Attrition and {column}\")\n"
   ]
  },
  {
   "cell_type": "code",
   "execution_count": 30,
   "metadata": {},
   "outputs": [
    {
     "name": "stdout",
     "output_type": "stream",
     "text": [
      "ChiSquare Test to check for dependency between Attrition and Education-\n",
      "\n",
      "\n",
      "H0: There is no dependency between Attrition and Education\n",
      "H1: There is dependency between Attrition and Education\n",
      "\n",
      "Chitbale:\n",
      "\n",
      " Education    1    2     3     4    5\n",
      "Attrition                           \n",
      "0          432  687  1449  1008  123\n",
      "1           78  159   267   186   21\n",
      "\n",
      "Obtained p value is 0.228\n",
      "\n",
      "Since here p value 0.228 is > 0.05 we accept the null hypothesis\n",
      "Therefore, there is no dependency between Attrition and Education\n"
     ]
    }
   ],
   "source": [
    "\n",
    "chitest('Education')"
   ]
  },
  {
   "cell_type": "code",
   "execution_count": 31,
   "metadata": {},
   "outputs": [
    {
     "name": "stdout",
     "output_type": "stream",
     "text": [
      "ChiSquare Test to check for dependency between Attrition and BusinessTravel-\n",
      "\n",
      "\n",
      "H0: There is no dependency between Attrition and BusinessTravel\n",
      "H1: There is dependency between Attrition and BusinessTravel\n",
      "\n",
      "Chitbale:\n",
      "\n",
      " BusinessTravel  Non-Travel  Travel_Frequently  Travel_Rarely\n",
      "Attrition                                                   \n",
      "0                      414                624           2661\n",
      "1                       36                207            468\n",
      "\n",
      "Obtained p value is 0.0\n",
      "\n",
      "Since here p value 0.0 is < 0.05 we reject the null hypothesis\n",
      "Therefore, there is dependency between Attrition and BusinessTravel\n"
     ]
    }
   ],
   "source": [
    "chitest('BusinessTravel')"
   ]
  },
  {
   "cell_type": "code",
   "execution_count": 32,
   "metadata": {},
   "outputs": [
    {
     "name": "stdout",
     "output_type": "stream",
     "text": [
      "ChiSquare Test to check for dependency between Attrition and Gender-\n",
      "\n",
      "\n",
      "H0: There is no dependency between Attrition and Gender\n",
      "H1: There is dependency between Attrition and Gender\n",
      "\n",
      "Chitbale:\n",
      "\n",
      " Gender        0     1\n",
      "Attrition            \n",
      "0          2205  1494\n",
      "1           441   270\n",
      "\n",
      "Obtained p value is 0.245\n",
      "\n",
      "Since here p value 0.245 is > 0.05 we accept the null hypothesis\n",
      "Therefore, there is no dependency between Attrition and Gender\n"
     ]
    }
   ],
   "source": [
    "chitest('Gender')"
   ]
  },
  {
   "cell_type": "code",
   "execution_count": 33,
   "metadata": {},
   "outputs": [
    {
     "name": "stdout",
     "output_type": "stream",
     "text": [
      "ChiSquare Test to check for dependency between Attrition and Department-\n",
      "\n",
      "\n",
      "H0: There is no dependency between Attrition and Department\n",
      "H1: There is dependency between Attrition and Department\n",
      "\n",
      "Chitbale:\n",
      "\n",
      " Department  Human Resources  Research & Development  Sales\n",
      "Attrition                                                 \n",
      "0                       132                    2430   1137\n",
      "1                        57                     453    201\n",
      "\n",
      "Obtained p value is 0.0\n",
      "\n",
      "Since here p value 0.0 is < 0.05 we reject the null hypothesis\n",
      "Therefore, there is dependency between Attrition and Department\n"
     ]
    }
   ],
   "source": [
    "chitest('Department')"
   ]
  },
  {
   "cell_type": "code",
   "execution_count": 34,
   "metadata": {},
   "outputs": [
    {
     "name": "stdout",
     "output_type": "stream",
     "text": [
      "ChiSquare Test to check for dependency between Attrition and MaritalStatus-\n",
      "\n",
      "\n",
      "H0: There is no dependency between Attrition and MaritalStatus\n",
      "H1: There is dependency between Attrition and MaritalStatus\n",
      "\n",
      "Chitbale:\n",
      "\n",
      " MaritalStatus  Divorced  Married  Single\n",
      "Attrition                               \n",
      "0                   882     1767    1050\n",
      "1                    99      252     360\n",
      "\n",
      "Obtained p value is 0.0\n",
      "\n",
      "Since here p value 0.0 is < 0.05 we reject the null hypothesis\n",
      "Therefore, there is dependency between Attrition and MaritalStatus\n"
     ]
    }
   ],
   "source": [
    "chitest('MaritalStatus')"
   ]
  },
  {
   "cell_type": "code",
   "execution_count": 35,
   "metadata": {},
   "outputs": [
    {
     "name": "stdout",
     "output_type": "stream",
     "text": [
      "ChiSquare Test to check for dependency between Attrition and StockOptionLevel-\n",
      "\n",
      "\n",
      "H0: There is no dependency between Attrition and StockOptionLevel\n",
      "H1: There is dependency between Attrition and StockOptionLevel\n",
      "\n",
      "Chitbale:\n",
      "\n",
      " StockOptionLevel     0     1    2    3\n",
      "Attrition                             \n",
      "0                 1575  1518  390  216\n",
      "1                  318   270   84   39\n",
      "\n",
      "Obtained p value is 0.385\n",
      "\n",
      "Since here p value 0.385 is > 0.05 we accept the null hypothesis\n",
      "Therefore, there is no dependency between Attrition and StockOptionLevel\n"
     ]
    }
   ],
   "source": [
    "chitest('StockOptionLevel')"
   ]
  },
  {
   "cell_type": "code",
   "execution_count": null,
   "metadata": {},
   "outputs": [],
   "source": []
  }
 ],
 "metadata": {
  "kernelspec": {
   "display_name": "Python 3",
   "language": "python",
   "name": "python3"
  },
  "language_info": {
   "codemirror_mode": {
    "name": "ipython",
    "version": 3
   },
   "file_extension": ".py",
   "mimetype": "text/x-python",
   "name": "python",
   "nbconvert_exporter": "python",
   "pygments_lexer": "ipython3",
   "version": "3.7.4"
  }
 },
 "nbformat": 4,
 "nbformat_minor": 2
}
