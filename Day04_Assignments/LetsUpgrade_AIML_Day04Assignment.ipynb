{
 "cells": [
  {
   "cell_type": "code",
   "execution_count": 8,
   "metadata": {},
   "outputs": [
    {
     "name": "stdout",
     "output_type": "stream",
     "text": [
      "the sum of two complex numbers= (11-1j)\n",
      "the differnce of two complex numbers= (1+5j)\n",
      "the multiplication of two complex numbers= (36-8j)\n",
      "the division  of two complex numbers= (0.7058823529411765+0.8235294117647058j)\n"
     ]
    }
   ],
   "source": [
    "a=6+2j\n",
    "b=5-3j\n",
    "print(\"the sum of two complex numbers=\",a+b)\n",
    "print(\"the differnce of two complex numbers=\",a-b)\n",
    "print(\"the multiplication of two complex numbers=\",a*b)\n",
    "print(\"the division  of two complex numbers=\",a/b)\n",
    "#print(\"the floor division  of two complex numbers=\",a//b)\n",
    "#print(\"the modulo  of two complex numbers=\",a%b)\n",
    "\n",
    "#Comments\n",
    "#the floor division and modulo operation cannot be performed in complex numbers it seems\n"
   ]
  },
  {
   "cell_type": "markdown",
   "metadata": {},
   "source": [
    "# Range\n",
    "-->it is denoted by range() function\n",
    "-->for instance range(10)will give us the output from 0 to 9 excluding 10  \n",
    "-->it has parameter step input range(0,10,2) the output will be 0,2,4,6,8\n"
   ]
  },
  {
   "cell_type": "code",
   "execution_count": 10,
   "metadata": {},
   "outputs": [
    {
     "name": "stdout",
     "output_type": "stream",
     "text": [
      "0\n",
      "2\n",
      "4\n",
      "6\n",
      "8\n"
     ]
    }
   ],
   "source": [
    "\"\"\"Code to explain range()\"\"\"\n",
    "for i in range(0,10,2):\n",
    "    print(i)\n",
    "\n"
   ]
  },
  {
   "cell_type": "code",
   "execution_count": 14,
   "metadata": {},
   "outputs": [
    {
     "name": "stdout",
     "output_type": "stream",
     "text": [
      "As the difference is greater than 25 printing the product of two numbers 4000\n"
     ]
    }
   ],
   "source": [
    "a=80\n",
    "b=50\n",
    "if(a-b>25):\n",
    "    print(\"As the difference is greater than 25 printing the product of two numbers\",a*b)\n",
    "else:\n",
    "    print(\"As the difference is lesser than 25 printing the division of two numbers\",a//b)"
   ]
  },
  {
   "cell_type": "code",
   "execution_count": 15,
   "metadata": {},
   "outputs": [
    {
     "name": "stdout",
     "output_type": "stream",
     "text": [
      "98\n",
      "398\n",
      "898\n",
      "1598\n",
      "2498\n",
      "3598\n",
      "4898\n",
      "6398\n"
     ]
    }
   ],
   "source": [
    "#List\n",
    "a=[10,20,30,40,50,60,70,80,91,95]\n",
    "for i in a:\n",
    "    if(i%2==0):\n",
    "        print(i**2-2)"
   ]
  },
  {
   "cell_type": "code",
   "execution_count": 16,
   "metadata": {},
   "outputs": [
    {
     "name": "stdout",
     "output_type": "stream",
     "text": [
      "16\n",
      "18\n",
      "20\n",
      "22\n",
      "50\n",
      "60\n"
     ]
    }
   ],
   "source": [
    "a=[2,10,12,14,16,18,20,22,50,60]\n",
    "for i in a:\n",
    "    if((i/2)>7):\n",
    "        print(i)\n",
    "    "
   ]
  },
  {
   "cell_type": "code",
   "execution_count": null,
   "metadata": {},
   "outputs": [],
   "source": []
  }
 ],
 "metadata": {
  "kernelspec": {
   "display_name": "Python 3",
   "language": "python",
   "name": "python3"
  },
  "language_info": {
   "codemirror_mode": {
    "name": "ipython",
    "version": 3
   },
   "file_extension": ".py",
   "mimetype": "text/x-python",
   "name": "python",
   "nbconvert_exporter": "python",
   "pygments_lexer": "ipython3",
   "version": "3.7.4"
  }
 },
 "nbformat": 4,
 "nbformat_minor": 2
}
